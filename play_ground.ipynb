{
 "cells": [
  {
   "cell_type": "code",
   "execution_count": null,
   "metadata": {
    "code_folding": [
     0,
     11
    ],
    "deletable": false,
    "editable": false,
    "run_control": {
     "frozen": true
    }
   },
   "outputs": [],
   "source": [
    "# prepare data\n",
    "import os\n",
    "import glob\n",
    "import json\n",
    "import numpy as np\n",
    "from PIL import Image\n",
    "from matplotlib import pyplot as plt\n",
    "from sklearn.model_selection import train_test_split\n",
    "\n",
    "\n",
    "paths = list(glob.iglob('data/IJCAI_2019_AAAC_train/*/*'))\n",
    "for i, p in enumerate(paths):\n",
    "#     with open(p, 'rb') as f:\n",
    "#         image_bytes = f.read()\n",
    "#         image_bytes = exif_remove(image_bytes)\n",
    "#     iof = BytesIO()\n",
    "#     iof.write(image_bytes)\n",
    "    if p.endswith(('gif', )):\n",
    "        status[i] = False\n",
    "    image = Image.open(p)\n",
    "    x, y = image.size\n",
    "    if x < 30 or y < 30:\n",
    "        status[i] = False\n",
    "    if image.format == \"GIF\":\n",
    "        status[i] = False\n",
    "    if image.mode == 'RGBA':\n",
    "        status[i] = False\n",
    "    if image.mode != \"RGB\":\n",
    "        status[i] = False\n",
    "status = [True] * len(paths)\n",
    "paths = np.array(paths)\n",
    "paths = paths[status]\n",
    "labels = [int(p.split('/')[-2]) for p in paths]\n",
    "path_train, path_test, label_train, label_test = train_test_split(paths, labels, test_size=0.2)"
   ]
  },
  {
   "cell_type": "code",
   "execution_count": null,
   "metadata": {
    "code_folding": [
     0
    ],
    "deletable": false,
    "editable": false,
    "run_control": {
     "frozen": true
    }
   },
   "outputs": [],
   "source": [
    "# GAIN API\n",
    "import cv2\n",
    "import glob\n",
    "import torch\n",
    "import numpy as np\n",
    "from torch import nn\n",
    "from PIL import Image\n",
    "import pretrainedmodels\n",
    "from matplotlib import pyplot as plt\n",
    "\n",
    "\n",
    "from config_gain import *\n",
    "from models import drn, activations\n",
    "from models.gain import GAINSolver\n",
    "from models.classifier import ClassifierNet, Classifier\n",
    "\n",
    "for i in [i / 10 for i in range(-10, 10)]:\n",
    "# if __name__ == '__main__':\n",
    "#     i = 0\n",
    "    backbone = pretrainedmodels.__dict__[model_name]()\n",
    "    backbone = nn.Sequential(*list(backbone.children())[: -2])\n",
    "    solver = GAINSolver(backbone, num_classes, in_channels, devices=devices, \n",
    "                        activation=activations.HardConcrete(i, temp))\n",
    "    solver.load_model(\n",
    "        'saved_models/best_model_GAIN model: se_resnext50_32x4d optimizer: sgd loc: -0.3 temp: 0.1.pt')\n",
    "\n",
    "    model = pretrainedmodels.__dict__['inceptionresnetv2']()\n",
    "    net = ClassifierNet(model, 110)\n",
    "    classifier = Classifier(net, devices=devices)\n",
    "    classifier.load_model('saved_models/best_model_Classifier model: inceptionresnetv2.pt')\n",
    "\n",
    "    img = [Image.open(i) for i in glob.iglob('data/dev_data/*') if i.endswith('png')]\n",
    "    img_np = np.asarray([np.asarray(i) for i in img])\n",
    "\n",
    "    cls, mask = solver.predict(img)\n",
    "    mask = mask > 0.5\n",
    "    img_target = img_np.copy()\n",
    "    img_target[~mask.repeat(3, axis=-1)] = 0\n",
    "    num = mask.reshape(mask.shape[0], -1).sum(axis=-1)\n",
    "    num = num.reshape(mask.shape[0], 1, 1, 1).repeat(3, axis=-1)\n",
    "    img_mean = img_target.sum(axis=1, keepdims=True).sum(axis=2, keepdims=True) / num\n",
    "#     img_mean = img_np.mean(axis=1, keepdims=True).mean(axis=2, keepdims=True)\n",
    "    img_masked = (1 - mask) * img_np + mask * img_mean\n",
    "\n",
    "    gt = classifier.predict(img).argmax(axis=1)\n",
    "    pred = solver.predict([Image.fromarray(i) for i in img_masked.astype(np.uint8)])[0].argmax(axis=1)\n",
    "    true_index = gt == pred\n",
    "    score = true_index.sum() * 64 / gt.shape[0] + np.sqrt(np.square(img_masked - img_np)[~true_index].mean())\n",
    "    print('temp: {}, score: {}, acc: {}'.format(i, score, true_index.sum()/110.))"
   ]
  },
  {
   "cell_type": "code",
   "execution_count": 1,
   "metadata": {},
   "outputs": [],
   "source": [
    "#coding=utf-8\n",
    "import os\n",
    "import math\n",
    "import glob\n",
    "import tqdm\n",
    "import torch\n",
    "from PIL import Image\n",
    "\n",
    "import pretrainedmodels\n",
    "from config_gba import *\n",
    "from models.gradient_based_attack import Attack\n",
    "from models.classifier import ClassifierNet, Classifier"
   ]
  },
  {
   "cell_type": "code",
   "execution_count": null,
   "metadata": {},
   "outputs": [
    {
     "name": "stdout",
     "output_type": "stream",
     "text": [
      "[tensor(0.0625), tensor(0.1875), tensor(0.1875)] tensor(1.2968)\n",
      "tensor(10.6301)\n",
      "[tensor(0.), tensor(0.), tensor(0.)] tensor(1.5909)\n",
      "tensor(1.5909)\n",
      "[tensor(0.), tensor(0.), tensor(0.)] tensor(3.5941)\n",
      "tensor(3.5941)\n",
      "[tensor(0.2500), tensor(0.2500), tensor(0.3750)] tensor(1.0911)\n",
      "tensor(19.7578)\n",
      "[tensor(0.), tensor(0.), tensor(0.)] tensor(2.8570)\n",
      "tensor(2.8570)\n",
      "[tensor(0.), tensor(0.), tensor(0.)] tensor(6.1822)\n",
      "tensor(6.1822)\n"
     ]
    }
   ],
   "source": [
    "if __name__ == '__main__':\n",
    "    os.environ[\"CUDA_VISIBLE_DEVICES\"] = ','.join(map(str, [1]))\n",
    "    models = [pretrainedmodels.__dict__[name]() for name in classifier_name]\n",
    "    classifiers = [ClassifierNet(model, num_classes) for model in models]\n",
    "    for c, p in zip(classifiers, classifier_path):\n",
    "        c.load_state_dict(torch.load(p))\n",
    "        \n",
    "    solver = Attack(classifiers, device='cuda', patience=2)\n",
    "    img = [Image.open(i) for i in glob.iglob('data/dev_data/*.png')]\n",
    "    target = [1] * len(img)\n",
    "    result = []\n",
    "    epoch = math.ceil(len(img) / batch_size)\n",
    "    for i in tqdm.tqdm(range(epoch), total=epoch):\n",
    "        torch.cuda.empty_cache()\n",
    "        batch_x = img[i * batch_size: (i + 1) * batch_size]\n",
    "        batch_y = target[i * batch_size: (i + 1) * batch_size]\n",
    "        result.extend(solver.predict(batch_x, batch_y, True, max_perturbation=10))"
   ]
  },
  {
   "cell_type": "code",
   "execution_count": null,
   "metadata": {},
   "outputs": [],
   "source": [
    "result[0]"
   ]
  },
  {
   "cell_type": "code",
   "execution_count": null,
   "metadata": {},
   "outputs": [],
   "source": []
  }
 ],
 "metadata": {
  "kernelspec": {
   "display_name": "Python 3",
   "language": "python",
   "name": "python3"
  },
  "language_info": {
   "codemirror_mode": {
    "name": "ipython",
    "version": 3
   },
   "file_extension": ".py",
   "mimetype": "text/x-python",
   "name": "python",
   "nbconvert_exporter": "python",
   "pygments_lexer": "ipython3",
   "version": "3.7.3"
  }
 },
 "nbformat": 4,
 "nbformat_minor": 2
}
